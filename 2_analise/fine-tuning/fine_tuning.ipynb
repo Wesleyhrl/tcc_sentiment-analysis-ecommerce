{
 "cells": [
  {
   "cell_type": "code",
   "execution_count": 1,
   "metadata": {},
   "outputs": [
    {
     "name": "stderr",
     "output_type": "stream",
     "text": [
      "d:\\VisualProjetos\\tcc_sentiment-analysis-ecommerce\\.venv\\Lib\\site-packages\\tqdm\\auto.py:21: TqdmWarning: IProgress not found. Please update jupyter and ipywidgets. See https://ipywidgets.readthedocs.io/en/stable/user_install.html\n",
      "  from .autonotebook import tqdm as notebook_tqdm\n"
     ]
    }
   ],
   "source": [
    "import pandas as pd\n",
    "import torch\n",
    "from transformers import (\n",
    "    AutoTokenizer, \n",
    "    AutoModelForSequenceClassification,\n",
    "    TrainingArguments, \n",
    "    Trainer,\n",
    "    DataCollatorWithPadding,\n",
    "    pipeline\n",
    ")\n",
    "from sklearn.model_selection import train_test_split\n",
    "from sklearn.metrics import accuracy_score, f1_score\n",
    "import numpy as np\n",
    "from datasets import Dataset\n",
    "import os"
   ]
  },
  {
   "cell_type": "code",
   "execution_count": 2,
   "metadata": {},
   "outputs": [],
   "source": [
    "# Configurações\n",
    "MODEL_NAME = \"Adilmar/caramelo-smile-2\"\n",
    "\n",
    "BASE_DIR = os.path.dirname(os.path.abspath('.'))\n",
    "DATASET_PATH = os.path.join(BASE_DIR, \"fine-tuning\", \"avaliacoes_kabum_sentimento.csv\")\n",
    "OUTPUT_DIR = os.path.join(BASE_DIR, \"fine-tuning\", \"caramelo-smile-kabum-finetuned\")"
   ]
  },
  {
   "cell_type": "code",
   "execution_count": 3,
   "metadata": {},
   "outputs": [
    {
     "name": "stdout",
     "output_type": "stream",
     "text": [
      "Distribuição dos sentimentos:\n",
      "sentimento\n",
      "positive    1787\n",
      "neutral      127\n",
      "negative      82\n",
      "Name: count, dtype: int64\n"
     ]
    }
   ],
   "source": [
    "# Carregar dados\n",
    "df = pd.read_csv(DATASET_PATH)\n",
    "print(\"Distribuição dos sentimentos:\")\n",
    "print(df['sentimento'].value_counts())"
   ]
  },
  {
   "cell_type": "code",
   "execution_count": 4,
   "metadata": {},
   "outputs": [
    {
     "name": "stdout",
     "output_type": "stream",
     "text": [
      "Primeiras linhas do dataset processado:\n",
      "                                           avaliacao sentimento  label\n",
      "0  Coolers com azul. Qualidade boa na embalagem e...   positive      2\n",
      "1  Muito top a placa. Já veio com a bios atualiza...   positive      2\n",
      "2               Bom. Bom produto, - Discreto, - Nada   positive      2\n",
      "3  Acabamento perfeito. A memória é linda, materi...   positive      2\n",
      "4  Cumpre a função. Ótimo produto e de fácil inst...   positive      2\n"
     ]
    }
   ],
   "source": [
    "# Mapear sentimentos e converter para int\n",
    "label_mapping = {'negative': 0, 'neutral': 1, 'positive': 2}\n",
    "df['label'] = df['sentimento'].map(label_mapping)\n",
    "df = df.dropna(subset=['label', 'avaliacao'])\n",
    "df['avaliacao'] = df['avaliacao'].astype(str)\n",
    "df['label'] = df['label'].astype(int)\n",
    "\n",
    "print(\"Primeiras linhas do dataset processado:\")\n",
    "print(df[['avaliacao', 'sentimento', 'label']].head())"
   ]
  },
  {
   "cell_type": "code",
   "execution_count": 5,
   "metadata": {},
   "outputs": [
    {
     "name": "stdout",
     "output_type": "stream",
     "text": [
      "Treino: 1596, Validação: 400\n",
      "\n",
      "Distribuição no treino:\n",
      "sentimento\n",
      "positive    1429\n",
      "neutral      101\n",
      "negative      66\n",
      "Name: count, dtype: int64\n",
      "\n",
      "Distribuição na validação:\n",
      "sentimento\n",
      "positive    358\n",
      "neutral      26\n",
      "negative     16\n",
      "Name: count, dtype: int64\n"
     ]
    }
   ],
   "source": [
    "# Dividir dados\n",
    "train_df, eval_df = train_test_split(df, test_size=0.2, random_state=42, stratify=df['label'])\n",
    "print(f\"Treino: {len(train_df)}, Validação: {len(eval_df)}\")\n",
    "print(\"\\nDistribuição no treino:\")\n",
    "print(train_df['sentimento'].value_counts())\n",
    "print(\"\\nDistribuição na validação:\")\n",
    "print(eval_df['sentimento'].value_counts())"
   ]
  },
  {
   "cell_type": "code",
   "execution_count": 6,
   "metadata": {},
   "outputs": [
    {
     "name": "stdout",
     "output_type": "stream",
     "text": [
      "Carregando modelo e tokenizer...\n",
      "Modelo e tokenizer carregados com sucesso!\n"
     ]
    }
   ],
   "source": [
    "# Carregar modelo\n",
    "print(\"Carregando modelo e tokenizer...\")\n",
    "tokenizer = AutoTokenizer.from_pretrained(MODEL_NAME)\n",
    "model = AutoModelForSequenceClassification.from_pretrained(MODEL_NAME)\n",
    "print(\"Modelo e tokenizer carregados com sucesso!\")"
   ]
  },
  {
   "cell_type": "code",
   "execution_count": 7,
   "metadata": {},
   "outputs": [],
   "source": [
    "# Tokenizar - forma mais simples e direta\n",
    "def tokenize_function(examples):\n",
    "    return tokenizer(\n",
    "        examples[\"avaliacao\"], \n",
    "        padding=\"max_length\",\n",
    "        truncation=True, \n",
    "        max_length=256\n",
    "    )"
   ]
  },
  {
   "cell_type": "code",
   "execution_count": 8,
   "metadata": {},
   "outputs": [
    {
     "name": "stdout",
     "output_type": "stream",
     "text": [
      "Datasets criados:\n",
      "Treino: 1596 exemplos\n",
      "Validação: 400 exemplos\n"
     ]
    }
   ],
   "source": [
    "# Criar datasets sem as colunas do pandas\n",
    "train_dataset = Dataset.from_dict({\n",
    "    \"avaliacao\": train_df['avaliacao'].tolist(),\n",
    "    \"label\": train_df['label'].tolist()\n",
    "})\n",
    "\n",
    "eval_dataset = Dataset.from_dict({\n",
    "    \"avaliacao\": eval_df['avaliacao'].tolist(),\n",
    "    \"label\": eval_df['label'].tolist()\n",
    "})\n",
    "\n",
    "print(\"Datasets criados:\")\n",
    "print(f\"Treino: {len(train_dataset)} exemplos\")\n",
    "print(f\"Validação: {len(eval_dataset)} exemplos\")"
   ]
  },
  {
   "cell_type": "code",
   "execution_count": 9,
   "metadata": {},
   "outputs": [
    {
     "name": "stdout",
     "output_type": "stream",
     "text": [
      "Tokenizando datasets...\n"
     ]
    },
    {
     "name": "stderr",
     "output_type": "stream",
     "text": [
      "Map: 100%|██████████| 1596/1596 [00:00<00:00, 12153.36 examples/s]\n",
      "Map: 100%|██████████| 400/400 [00:00<00:00, 12733.16 examples/s]"
     ]
    },
    {
     "name": "stdout",
     "output_type": "stream",
     "text": [
      "Tokenização concluída!\n"
     ]
    },
    {
     "name": "stderr",
     "output_type": "stream",
     "text": [
      "\n"
     ]
    }
   ],
   "source": [
    "# Tokenizar\n",
    "print(\"Tokenizando datasets...\")\n",
    "train_dataset = train_dataset.map(tokenize_function, batched=True)\n",
    "eval_dataset = eval_dataset.map(tokenize_function, batched=True)\n",
    "print(\"Tokenização concluída!\")"
   ]
  },
  {
   "cell_type": "code",
   "execution_count": 10,
   "metadata": {},
   "outputs": [
    {
     "name": "stdout",
     "output_type": "stream",
     "text": [
      "Estrutura final do dataset de treino:\n",
      "Dataset({\n",
      "    features: ['label', 'input_ids', 'attention_mask'],\n",
      "    num_rows: 1596\n",
      "})\n"
     ]
    }
   ],
   "source": [
    "# Remover colunas originais\n",
    "train_dataset = train_dataset.remove_columns(['avaliacao'])\n",
    "eval_dataset = eval_dataset.remove_columns(['avaliacao'])\n",
    "\n",
    "print(\"Estrutura final do dataset de treino:\")\n",
    "print(train_dataset)"
   ]
  },
  {
   "cell_type": "code",
   "execution_count": 11,
   "metadata": {},
   "outputs": [
    {
     "name": "stdout",
     "output_type": "stream",
     "text": [
      "Argumentos de treinamento configurados:\n",
      "- Épocas: 3\n",
      "- Batch size: 8\n",
      "- Learning rate: 2e-05\n",
      "- Output dir: d:\\VisualProjetos\\tcc_sentiment-analysis-ecommerce\\2_analise\\fine-tuning\\caramelo-smile-kabum-finetuned\n"
     ]
    }
   ],
   "source": [
    "# Configurar treinamento\n",
    "training_args = TrainingArguments(\n",
    "    output_dir=OUTPUT_DIR,\n",
    "    num_train_epochs=3,\n",
    "    per_device_train_batch_size=8,\n",
    "    per_device_eval_batch_size=8,\n",
    "    learning_rate=2e-5,\n",
    "    weight_decay=0.01,\n",
    "    eval_strategy=\"epoch\",\n",
    "    save_strategy=\"epoch\",\n",
    "    load_best_model_at_end=True,\n",
    "    metric_for_best_model=\"accuracy\",\n",
    "    remove_unused_columns=True,\n",
    ")\n",
    "\n",
    "print(\"Argumentos de treinamento configurados:\")\n",
    "print(f\"- Épocas: {training_args.num_train_epochs}\")\n",
    "print(f\"- Batch size: {training_args.per_device_train_batch_size}\")\n",
    "print(f\"- Learning rate: {training_args.learning_rate}\")\n",
    "print(f\"- Output dir: {training_args.output_dir}\")"
   ]
  },
  {
   "cell_type": "code",
   "execution_count": 12,
   "metadata": {},
   "outputs": [],
   "source": [
    "def compute_metrics(eval_pred):\n",
    "    predictions, labels = eval_pred\n",
    "    predictions = np.argmax(predictions, axis=1)\n",
    "    accuracy = accuracy_score(labels, predictions)\n",
    "    f1 = f1_score(labels, predictions, average='weighted')\n",
    "    return {'accuracy': accuracy, 'f1': f1}"
   ]
  },
  {
   "cell_type": "code",
   "execution_count": 13,
   "metadata": {},
   "outputs": [
    {
     "name": "stdout",
     "output_type": "stream",
     "text": [
      "Trainer configurado com sucesso!\n",
      "Modelo: RobertaForSequenceClassification\n",
      "Exemplos de treino: 1596\n",
      "Exemplos de validação: 400\n"
     ]
    }
   ],
   "source": [
    "# Treinar\n",
    "trainer = Trainer(\n",
    "    model=model,\n",
    "    args=training_args,\n",
    "    train_dataset=train_dataset,\n",
    "    eval_dataset=eval_dataset,\n",
    "    compute_metrics=compute_metrics,\n",
    ")\n",
    "\n",
    "print(\"Trainer configurado com sucesso!\")\n",
    "print(f\"Modelo: {type(model).__name__}\")\n",
    "print(f\"Exemplos de treino: {len(train_dataset)}\")\n",
    "print(f\"Exemplos de validação: {len(eval_dataset)}\")"
   ]
  },
  {
   "cell_type": "code",
   "execution_count": 14,
   "metadata": {},
   "outputs": [
    {
     "name": "stdout",
     "output_type": "stream",
     "text": [
      "Iniciando fine-tuning...\n"
     ]
    },
    {
     "data": {
      "text/html": [
       "\n",
       "    <div>\n",
       "      \n",
       "      <progress value='600' max='600' style='width:300px; height:20px; vertical-align: middle;'></progress>\n",
       "      [600/600 02:13, Epoch 3/3]\n",
       "    </div>\n",
       "    <table border=\"1\" class=\"dataframe\">\n",
       "  <thead>\n",
       " <tr style=\"text-align: left;\">\n",
       "      <th>Epoch</th>\n",
       "      <th>Training Loss</th>\n",
       "      <th>Validation Loss</th>\n",
       "      <th>Accuracy</th>\n",
       "      <th>F1</th>\n",
       "    </tr>\n",
       "  </thead>\n",
       "  <tbody>\n",
       "    <tr>\n",
       "      <td>1</td>\n",
       "      <td>No log</td>\n",
       "      <td>0.343704</td>\n",
       "      <td>0.905000</td>\n",
       "      <td>0.884462</td>\n",
       "    </tr>\n",
       "    <tr>\n",
       "      <td>2</td>\n",
       "      <td>No log</td>\n",
       "      <td>0.347284</td>\n",
       "      <td>0.907500</td>\n",
       "      <td>0.894412</td>\n",
       "    </tr>\n",
       "    <tr>\n",
       "      <td>3</td>\n",
       "      <td>0.254400</td>\n",
       "      <td>0.360315</td>\n",
       "      <td>0.915000</td>\n",
       "      <td>0.907666</td>\n",
       "    </tr>\n",
       "  </tbody>\n",
       "</table><p>"
      ],
      "text/plain": [
       "<IPython.core.display.HTML object>"
      ]
     },
     "metadata": {},
     "output_type": "display_data"
    },
    {
     "name": "stdout",
     "output_type": "stream",
     "text": [
      "Fine-tuning concluído!\n"
     ]
    }
   ],
   "source": [
    "print(\"Iniciando fine-tuning...\")\n",
    "train_history = trainer.train()\n",
    "print(\"Fine-tuning concluído!\")"
   ]
  },
  {
   "cell_type": "code",
   "execution_count": 15,
   "metadata": {},
   "outputs": [
    {
     "name": "stdout",
     "output_type": "stream",
     "text": [
      "Modelo salvo em: d:\\VisualProjetos\\tcc_sentiment-analysis-ecommerce\\2_analise\\fine-tuning\\caramelo-smile-kabum-finetuned\n"
     ]
    }
   ],
   "source": [
    "# Salvar modelo\n",
    "trainer.save_model()\n",
    "tokenizer.save_pretrained(OUTPUT_DIR)\n",
    "print(f\"Modelo salvo em: {OUTPUT_DIR}\")"
   ]
  },
  {
   "cell_type": "code",
   "execution_count": 16,
   "metadata": {},
   "outputs": [
    {
     "data": {
      "text/html": [
       "\n",
       "    <div>\n",
       "      \n",
       "      <progress value='50' max='50' style='width:300px; height:20px; vertical-align: middle;'></progress>\n",
       "      [50/50 00:02]\n",
       "    </div>\n",
       "    "
      ],
      "text/plain": [
       "<IPython.core.display.HTML object>"
      ]
     },
     "metadata": {},
     "output_type": "display_data"
    },
    {
     "name": "stdout",
     "output_type": "stream",
     "text": [
      "\n",
      "=== RESULTADOS FINAIS ===\n",
      "Acurácia: 0.9150\n",
      "F1-Score: 0.9077\n",
      "Loss: 0.3603\n"
     ]
    }
   ],
   "source": [
    "# Avaliar\n",
    "results = trainer.evaluate()\n",
    "print(\"\\n=== RESULTADOS FINAIS ===\")\n",
    "print(f\"Acurácia: {results['eval_accuracy']:.4f}\")\n",
    "print(f\"F1-Score: {results['eval_f1']:.4f}\")\n",
    "print(f\"Loss: {results['eval_loss']:.4f}\")"
   ]
  },
  {
   "cell_type": "code",
   "execution_count": 17,
   "metadata": {},
   "outputs": [
    {
     "name": "stderr",
     "output_type": "stream",
     "text": [
      "Device set to use cuda:0\n"
     ]
    },
    {
     "name": "stdout",
     "output_type": "stream",
     "text": [
      "\n",
      "=== TESTES COM NOVOS TEXTOS ===\n",
      "Texto: Produto excelente, chegou rápido e funcionando perfeitamente!\n",
      "Sentimento: positive (Score: 0.9982)\n",
      "--------------------------------------------------\n",
      "Texto: Não gostei, veio com defeito e o suporte foi péssimo.\n",
      "Sentimento: negative (Score: 0.9855)\n",
      "--------------------------------------------------\n",
      "Texto: O produto é ok, mas a entrega atrasou um pouco.\n",
      "Sentimento: neutral (Score: 0.9647)\n",
      "--------------------------------------------------\n"
     ]
    }
   ],
   "source": [
    "# Testar\n",
    "classifier = pipeline(\"sentiment-analysis\", model=OUTPUT_DIR, tokenizer=OUTPUT_DIR)\n",
    "\n",
    "test_samples = [\n",
    "    \"Produto excelente, chegou rápido e funcionando perfeitamente!\",\n",
    "    \"Não gostei, veio com defeito e o suporte foi péssimo.\",\n",
    "    \"O produto é ok, mas a entrega atrasou um pouco.\",\n",
    "]\n",
    "\n",
    "print(\"\\n=== TESTES COM NOVOS TEXTOS ===\")\n",
    "for sample in test_samples:\n",
    "    result = classifier(sample)[0]\n",
    "    print(f\"Texto: {sample}\")\n",
    "    print(f\"Sentimento: {result['label']} (Score: {result['score']:.4f})\")\n",
    "    print(\"-\" * 50)"
   ]
  }
 ],
 "metadata": {
  "kernelspec": {
   "display_name": "tcc-sentiment-analysis-ecommerce-py3.13 (3.13.7)",
   "language": "python",
   "name": "python3"
  },
  "language_info": {
   "codemirror_mode": {
    "name": "ipython",
    "version": 3
   },
   "file_extension": ".py",
   "mimetype": "text/x-python",
   "name": "python",
   "nbconvert_exporter": "python",
   "pygments_lexer": "ipython3",
   "version": "3.13.7"
  }
 },
 "nbformat": 4,
 "nbformat_minor": 4
}
